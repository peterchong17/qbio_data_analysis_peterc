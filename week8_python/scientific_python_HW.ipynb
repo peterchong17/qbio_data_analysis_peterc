{
 "cells": [
  {
   "cell_type": "code",
   "execution_count": 1,
   "id": "e36ee117",
   "metadata": {},
   "outputs": [],
   "source": [
    "import numpy as np\n",
    "import pandas as pd"
   ]
  },
  {
   "cell_type": "code",
   "execution_count": 6,
   "id": "f05a4f83",
   "metadata": {},
   "outputs": [],
   "source": [
    "mpg_df=pd.read_csv(\"/Users/peterchong/Documents/sp22_qbio_public_data_analysis_resources/week8_python/mpg.csv\")"
   ]
  },
  {
   "cell_type": "code",
   "execution_count": 10,
   "id": "6d21da0d",
   "metadata": {},
   "outputs": [
    {
     "name": "stdout",
     "output_type": "stream",
     "text": [
      "[RangeIndex(start=0, stop=398, step=1), Index(['mpg', 'cylinders', 'displacement', 'horsepower', 'weight',\n",
      "       'acceleration', 'model_year', 'origin', 'name'],\n",
      "      dtype='object')]\n",
      "(398, 9)\n"
     ]
    },
    {
     "data": {
      "text/html": [
       "<div>\n",
       "<style scoped>\n",
       "    .dataframe tbody tr th:only-of-type {\n",
       "        vertical-align: middle;\n",
       "    }\n",
       "\n",
       "    .dataframe tbody tr th {\n",
       "        vertical-align: top;\n",
       "    }\n",
       "\n",
       "    .dataframe thead th {\n",
       "        text-align: right;\n",
       "    }\n",
       "</style>\n",
       "<table border=\"1\" class=\"dataframe\">\n",
       "  <thead>\n",
       "    <tr style=\"text-align: right;\">\n",
       "      <th></th>\n",
       "      <th>mpg</th>\n",
       "      <th>cylinders</th>\n",
       "      <th>displacement</th>\n",
       "      <th>horsepower</th>\n",
       "      <th>weight</th>\n",
       "      <th>acceleration</th>\n",
       "      <th>model_year</th>\n",
       "      <th>origin</th>\n",
       "      <th>name</th>\n",
       "    </tr>\n",
       "  </thead>\n",
       "  <tbody>\n",
       "    <tr>\n",
       "      <th>0</th>\n",
       "      <td>18.0</td>\n",
       "      <td>8</td>\n",
       "      <td>307.0</td>\n",
       "      <td>130.0</td>\n",
       "      <td>3504</td>\n",
       "      <td>12.0</td>\n",
       "      <td>70</td>\n",
       "      <td>usa</td>\n",
       "      <td>chevrolet chevelle malibu</td>\n",
       "    </tr>\n",
       "    <tr>\n",
       "      <th>1</th>\n",
       "      <td>15.0</td>\n",
       "      <td>8</td>\n",
       "      <td>350.0</td>\n",
       "      <td>165.0</td>\n",
       "      <td>3693</td>\n",
       "      <td>11.5</td>\n",
       "      <td>70</td>\n",
       "      <td>usa</td>\n",
       "      <td>buick skylark 320</td>\n",
       "    </tr>\n",
       "    <tr>\n",
       "      <th>2</th>\n",
       "      <td>18.0</td>\n",
       "      <td>8</td>\n",
       "      <td>318.0</td>\n",
       "      <td>150.0</td>\n",
       "      <td>3436</td>\n",
       "      <td>11.0</td>\n",
       "      <td>70</td>\n",
       "      <td>usa</td>\n",
       "      <td>plymouth satellite</td>\n",
       "    </tr>\n",
       "    <tr>\n",
       "      <th>3</th>\n",
       "      <td>16.0</td>\n",
       "      <td>8</td>\n",
       "      <td>304.0</td>\n",
       "      <td>150.0</td>\n",
       "      <td>3433</td>\n",
       "      <td>12.0</td>\n",
       "      <td>70</td>\n",
       "      <td>usa</td>\n",
       "      <td>amc rebel sst</td>\n",
       "    </tr>\n",
       "    <tr>\n",
       "      <th>4</th>\n",
       "      <td>17.0</td>\n",
       "      <td>8</td>\n",
       "      <td>302.0</td>\n",
       "      <td>140.0</td>\n",
       "      <td>3449</td>\n",
       "      <td>10.5</td>\n",
       "      <td>70</td>\n",
       "      <td>usa</td>\n",
       "      <td>ford torino</td>\n",
       "    </tr>\n",
       "  </tbody>\n",
       "</table>\n",
       "</div>"
      ],
      "text/plain": [
       "    mpg  cylinders  displacement  horsepower  weight  acceleration  \\\n",
       "0  18.0          8         307.0       130.0    3504          12.0   \n",
       "1  15.0          8         350.0       165.0    3693          11.5   \n",
       "2  18.0          8         318.0       150.0    3436          11.0   \n",
       "3  16.0          8         304.0       150.0    3433          12.0   \n",
       "4  17.0          8         302.0       140.0    3449          10.5   \n",
       "\n",
       "   model_year origin                       name  \n",
       "0          70    usa  chevrolet chevelle malibu  \n",
       "1          70    usa          buick skylark 320  \n",
       "2          70    usa         plymouth satellite  \n",
       "3          70    usa              amc rebel sst  \n",
       "4          70    usa                ford torino  "
      ]
     },
     "execution_count": 10,
     "metadata": {},
     "output_type": "execute_result"
    }
   ],
   "source": [
    "print(mpg_df.axes)\n",
    "print(mpg_df.shape)\n",
    "mpg_df.head()\n",
    "# A. There are 298 rows. \n",
    "# B. There are 9 columns\n",
    "# C. The column names are mpg, cylinders, displacement, horsepower, and weight."
   ]
  },
  {
   "cell_type": "code",
   "execution_count": 13,
   "id": "046e6422",
   "metadata": {},
   "outputs": [],
   "source": [
    "# mpg_df[0, 0]"
   ]
  },
  {
   "cell_type": "code",
   "execution_count": 38,
   "id": "b52009ee",
   "metadata": {},
   "outputs": [],
   "source": [
    "# practice accession with iloc here\n",
    "# 1. third element, last column\n",
    "ans1 = mpg_df.iloc[2,8]\n",
    "assert(ans1 == \"plymouth satellite\")\n",
    "\n",
    "# 2. first three rows\n",
    "ans2 = mpg_df.iloc[:3]\n",
    "assert(ans2.shape == (3, 9))\n",
    "assert(np.all(ans2[\"name\"] == [\"chevrolet chevelle malibu\", \"buick skylark 320\", \"plymouth satellite\"]))\n",
    "\n",
    "# 3. third, fourth, and fifth columns\n",
    "ans3 = mpg_df.iloc[:,2:5]\n",
    "assert(ans3.shape == (398, 3))\n",
    "assert(np.all(ans3.columns == [\"displacement\", \"horsepower\", \"weight\"]))\n",
    "\n",
    "# 4. second and fifth rows\n",
    "ans4 = mpg_df.iloc[[2,5]]\n",
    "assert(ans4.shape == (2, 9))\n",
    "assert(np.all(ans4.name == [\"buick skylark 320\", \"ford torino\"]))"
   ]
  },
  {
   "cell_type": "code",
   "execution_count": 39,
   "id": "f927f726",
   "metadata": {
    "scrolled": true
   },
   "outputs": [
    {
     "data": {
      "text/plain": [
       "0      chevrolet chevelle malibu\n",
       "1              buick skylark 320\n",
       "2             plymouth satellite\n",
       "3                  amc rebel sst\n",
       "4                    ford torino\n",
       "                 ...            \n",
       "393              ford mustang gl\n",
       "394                    vw pickup\n",
       "395                dodge rampage\n",
       "396                  ford ranger\n",
       "397                   chevy s-10\n",
       "Name: name, Length: 398, dtype: object"
      ]
     },
     "execution_count": 39,
     "metadata": {},
     "output_type": "execute_result"
    }
   ],
   "source": [
    "mpg_df[\"name\"]"
   ]
  },
  {
   "cell_type": "code",
   "execution_count": 53,
   "id": "db73df5e",
   "metadata": {},
   "outputs": [],
   "source": [
    "# 1. third element in the displacement column\n",
    "ans1 = mpg_df.loc[2,\"displacement\"]\n",
    "assert(ans1 == 318)\n",
    "\n",
    "# 2. first three rows\n",
    "ans2 = mpg_df.loc[:2,]\n",
    "assert(ans2.shape == (3, 9))\n",
    "assert(np.all(ans2.axes[0] == [0, 1, 2]))\n",
    "\n",
    "# 3. mpg, horsepower, and weight columns\n",
    "ans3 = mpg_df.loc[:,['mpg','horsepower','weight']]\n",
    "assert(ans3.shape == (398, 3))\n",
    "assert(np.all(ans3.columns == [\"mpg\", \"horsepower\", \"weight\"]))\n",
    "\n",
    "# 4. last element of the name column\n",
    "ans4 = mpg_df.loc[len(mpg_df)-1,\"name\"]\n",
    "assert(ans4 == \"chevy s-10\")"
   ]
  },
  {
   "cell_type": "code",
   "execution_count": 76,
   "id": "1b9c0a78",
   "metadata": {},
   "outputs": [
    {
     "name": "stdout",
     "output_type": "stream",
     "text": [
      "    mpg  cylinders\n",
      "0  18.0          8\n",
      "1  15.0          8\n",
      "2  18.0          8\n",
      "3  16.0          8\n",
      "4  17.0          8\n",
      "5\n",
      "5\n",
      "3\n",
      "3\n"
     ]
    },
    {
     "data": {
      "text/html": [
       "<div>\n",
       "<style scoped>\n",
       "    .dataframe tbody tr th:only-of-type {\n",
       "        vertical-align: middle;\n",
       "    }\n",
       "\n",
       "    .dataframe tbody tr th {\n",
       "        vertical-align: top;\n",
       "    }\n",
       "\n",
       "    .dataframe thead th {\n",
       "        text-align: right;\n",
       "    }\n",
       "</style>\n",
       "<table border=\"1\" class=\"dataframe\">\n",
       "  <thead>\n",
       "    <tr style=\"text-align: right;\">\n",
       "      <th></th>\n",
       "      <th>mpg</th>\n",
       "      <th>cylinders</th>\n",
       "    </tr>\n",
       "  </thead>\n",
       "  <tbody>\n",
       "    <tr>\n",
       "      <th>0</th>\n",
       "      <td>18.0</td>\n",
       "      <td>8</td>\n",
       "    </tr>\n",
       "    <tr>\n",
       "      <th>2</th>\n",
       "      <td>18.0</td>\n",
       "      <td>8</td>\n",
       "    </tr>\n",
       "    <tr>\n",
       "      <th>4</th>\n",
       "      <td>17.0</td>\n",
       "      <td>8</td>\n",
       "    </tr>\n",
       "  </tbody>\n",
       "</table>\n",
       "</div>"
      ],
      "text/plain": [
       "    mpg  cylinders\n",
       "0  18.0          8\n",
       "2  18.0          8\n",
       "4  17.0          8"
      ]
     },
     "execution_count": 76,
     "metadata": {},
     "output_type": "execute_result"
    }
   ],
   "source": [
    "mpg_small = mpg_df.iloc[0:5, 0:2]\n",
    "print(mpg_small)\n",
    "bool_mask_mpg = mpg_df.loc[0:4, \"mpg\"] >= 17.0\n",
    "\n",
    "bool_mask_mpg\n",
    "\n",
    "# 1.\n",
    "print(len(bool_mask_mpg))\n",
    "\n",
    "#2.\n",
    "print(mpg_small.shape[0])\n",
    "\n",
    "#3.\n",
    "print(np.sum(bool_mask_mpg))\n",
    "print(sum(bool_mask_mpg))\n",
    "\n",
    "#4.\n",
    "# Write what you think the table will contain here!\n",
    "# mpg     cylinders\n",
    "# 18         8\n",
    "# 18         8\n",
    "# 18         8\n",
    "\n",
    "# applying the mask\n",
    "# note that this code does NOT modify mpg_small\n",
    "mpg_small.loc[bool_mask_mpg, :]"
   ]
  },
  {
   "cell_type": "code",
   "execution_count": 101,
   "id": "45c2ccbf",
   "metadata": {},
   "outputs": [
    {
     "name": "stdout",
     "output_type": "stream",
     "text": [
      "There are 3 Honda Civics in the data set.\n",
      "The mean weight of the Honda Civics is 2083.0\n"
     ]
    },
    {
     "data": {
      "text/html": [
       "<div>\n",
       "<style scoped>\n",
       "    .dataframe tbody tr th:only-of-type {\n",
       "        vertical-align: middle;\n",
       "    }\n",
       "\n",
       "    .dataframe tbody tr th {\n",
       "        vertical-align: top;\n",
       "    }\n",
       "\n",
       "    .dataframe thead th {\n",
       "        text-align: right;\n",
       "    }\n",
       "</style>\n",
       "<table border=\"1\" class=\"dataframe\">\n",
       "  <thead>\n",
       "    <tr style=\"text-align: right;\">\n",
       "      <th></th>\n",
       "      <th>mpg</th>\n",
       "      <th>cylinders</th>\n",
       "      <th>displacement</th>\n",
       "      <th>horsepower</th>\n",
       "      <th>weight</th>\n",
       "      <th>acceleration</th>\n",
       "      <th>model_year</th>\n",
       "      <th>origin</th>\n",
       "      <th>name</th>\n",
       "    </tr>\n",
       "  </thead>\n",
       "  <tbody>\n",
       "    <tr>\n",
       "      <th>149</th>\n",
       "      <td>24.0</td>\n",
       "      <td>4</td>\n",
       "      <td>120.0</td>\n",
       "      <td>97.0</td>\n",
       "      <td>2489</td>\n",
       "      <td>15.0</td>\n",
       "      <td>74</td>\n",
       "      <td>japan</td>\n",
       "      <td>honda civic</td>\n",
       "    </tr>\n",
       "    <tr>\n",
       "      <th>198</th>\n",
       "      <td>33.0</td>\n",
       "      <td>4</td>\n",
       "      <td>91.0</td>\n",
       "      <td>53.0</td>\n",
       "      <td>1795</td>\n",
       "      <td>17.4</td>\n",
       "      <td>76</td>\n",
       "      <td>japan</td>\n",
       "      <td>honda civic</td>\n",
       "    </tr>\n",
       "    <tr>\n",
       "      <th>383</th>\n",
       "      <td>38.0</td>\n",
       "      <td>4</td>\n",
       "      <td>91.0</td>\n",
       "      <td>67.0</td>\n",
       "      <td>1965</td>\n",
       "      <td>15.0</td>\n",
       "      <td>82</td>\n",
       "      <td>japan</td>\n",
       "      <td>honda civic</td>\n",
       "    </tr>\n",
       "  </tbody>\n",
       "</table>\n",
       "</div>"
      ],
      "text/plain": [
       "      mpg  cylinders  displacement  horsepower  weight  acceleration  \\\n",
       "149  24.0          4         120.0        97.0    2489          15.0   \n",
       "198  33.0          4          91.0        53.0    1795          17.4   \n",
       "383  38.0          4          91.0        67.0    1965          15.0   \n",
       "\n",
       "     model_year origin         name  \n",
       "149          74  japan  honda civic  \n",
       "198          76  japan  honda civic  \n",
       "383          82  japan  honda civic  "
      ]
     },
     "execution_count": 101,
     "metadata": {},
     "output_type": "execute_result"
    }
   ],
   "source": [
    "honda_civic_mask = mpg_df.loc[:,\"name\"]==\"honda civic\"\n",
    "honda_civic_data = mpg_df[honda_civic_mask]\n",
    "\n",
    "print(f\"There are {len(honda_civic_data)} Honda Civics in the data set.\")\n",
    "\n",
    "mean_honda_civic_weight = np.mean(honda_civic_data.weight)\n",
    "print(f\"The mean weight of the Honda Civics is {mean_honda_civic_weight}\")\n",
    "\n",
    "assert(mean_honda_civic_weight == 2083.0)\n",
    "honda_civic_data"
   ]
  },
  {
   "cell_type": "code",
   "execution_count": 118,
   "id": "837db3d1",
   "metadata": {},
   "outputs": [
    {
     "name": "stdout",
     "output_type": "stream",
     "text": [
      "There are 249 rows and 2 columns in the American Car Data Set.\n",
      "There are 70 rows and 2 columns in the European Car Data Set.\n",
      "mpg            20.083534\n",
      "horsepower    119.048980\n",
      "dtype: float64\n",
      "mpg           27.891429\n",
      "horsepower    80.558824\n",
      "dtype: float64\n"
     ]
    }
   ],
   "source": [
    "#1\n",
    "amer_mask = mpg_df[\"origin\"]==\"usa\"\n",
    "euro_mask = mpg_df['origin']==\"europe\"\n",
    "\n",
    "#2\n",
    "columns_of_interest = ['mpg','horsepower']\n",
    "amer_df = mpg_df.loc[:,columns_of_interest][amer_mask]\n",
    "euro_df = mpg_df.loc[:,columns_of_interest][euro_mask]\n",
    "\n",
    "# 3. \n",
    "print(f\"There are {amer_df.shape[0]} rows and {amer_df.shape[1]} columns in the American Car Data Set.\")\n",
    "print(f\"There are {euro_df.shape[0]} rows and {euro_df.shape[1]} columns in the European Car Data Set.\")\n",
    "\n",
    "# 4.\n",
    "print(amer_df.mean())\n",
    "print(euro_df.mean())\n",
    "\n",
    "# 5. Record your observations:\n",
    "# European cars have more mpg but less horsepower than American cars."
   ]
  },
  {
   "cell_type": "code",
   "execution_count": 146,
   "id": "6ea54b27",
   "metadata": {},
   "outputs": [
    {
     "name": "stdout",
     "output_type": "stream",
     "text": [
      "The median mpg for efficient cars is 34.1.\n",
      "The median mpg for inefficient cars is 20.0.\n"
     ]
    }
   ],
   "source": [
    "# 1. Create the efficiency_status column in mpg_df\n",
    "mpg_df[\"efficiency_status\"] = np.where(mpg_df[\"mpg\"]>30, \"efficient\", \"inefficient\")\n",
    "\n",
    "# 2. Create the two data frames with efficient vs. inefficient cars\n",
    "eff_mask = mpg_df[\"efficiency_status\"]==\"efficient\"\n",
    "efficient_mpg_df = mpg_df[eff_mask]\n",
    "ineff_mask = mpg_df[\"efficiency_status\"]==\"inefficient\"\n",
    "inefficient_mpg_df = mpg_df[ineff_mask]\n",
    "\n",
    "# 3. find the median mpg and print it\n",
    "eff_med = np.median(efficient_mpg_df.loc[:,\"mpg\"])\n",
    "ineff_med = np.median(inefficient_mpg_df.loc[:,\"mpg\"])\n",
    "print(f\"The median mpg for efficient cars is {eff_med}.\")\n",
    "print(f\"The median mpg for inefficient cars is {ineff_med}.\")\n",
    "\n",
    "# These values make sense, as the mpg for efficient cars should be significantly larger than that of inefficient cars.                                         \n",
    "                                         \n",
    "#  For this to print properly, you may need to use single quotes to access the 'mpg' column:\n",
    "#  e.g efficient_mpg_df['mpg'] rather than efficient_mpg_df[\"mpg\"]\n",
    "#  (This is because our main quote has double quotes)"
   ]
  },
  {
   "cell_type": "code",
   "execution_count": 147,
   "id": "626b373a",
   "metadata": {},
   "outputs": [],
   "source": [
    "import matplotlib.pyplot as plt"
   ]
  },
  {
   "cell_type": "code",
   "execution_count": 155,
   "id": "d65f2a6d",
   "metadata": {},
   "outputs": [
    {
     "data": {
      "image/png": "[encoded data removed]",
      "text/plain": [
       "<Figure size 432x288 with 1 Axes>"
      ]
     },
     "metadata": {
      "needs_background": "light"
     },
     "output_type": "display_data"
    }
   ],
   "source": [
    "# Create your plot here: you may want to refer to the previous examples\n",
    "fig, ax = plt.subplots(1,1)\n",
    "\n",
    "ax.scatter(mpg_df[\"horsepower\"], mpg_df[\"mpg\"], c = mpg_df[\"cylinders\"],  alpha = 0.6)\n",
    "\n",
    "ax.set(xlabel = \"horsepower\",\n",
    "       ylabel = \"mpg\")\n",
    "fig.suptitle(\"Horsepower vs MPG\")\n",
    "\n",
    "plt.show()"
   ]
  },
  {
   "cell_type": "code",
   "execution_count": 158,
   "id": "c666f65f",
   "metadata": {},
   "outputs": [
    {
     "data": {
      "text/plain": [
       "{'whiskers': [<matplotlib.lines.Line2D at 0x7fbb2bff4580>,\n",
       "  <matplotlib.lines.Line2D at 0x7fbb2bff4880>],\n",
       " 'caps': [<matplotlib.lines.Line2D at 0x7fbb2bff4c10>,\n",
       "  <matplotlib.lines.Line2D at 0x7fbb2bff4e20>],\n",
       " 'boxes': [<matplotlib.lines.Line2D at 0x7fbb2bff4310>],\n",
       " 'medians': [<matplotlib.lines.Line2D at 0x7fbb2c003130>],\n",
       " 'fliers': [<matplotlib.lines.Line2D at 0x7fbb2c003400>],\n",
       " 'means': []}"
      ]
     },
     "execution_count": 158,
     "metadata": {},
     "output_type": "execute_result"
    },
    {
     "data": {
      "image/png": "[encoded data removed]",
      "text/plain": [
       "<Figure size 432x288 with 1 Axes>"
      ]
     },
     "metadata": {
      "needs_background": "light"
     },
     "output_type": "display_data"
    }
   ],
   "source": [
    "fig, ax = plt.subplots(1,1)\n",
    "\n",
    "ax.boxplot(mpg_df[\"weight\"])"
   ]
  },
  {
   "cell_type": "code",
   "execution_count": 170,
   "id": "5da324ee",
   "metadata": {},
   "outputs": [
    {
     "data": {
      "text/plain": [
       "[Text(0.5, 0, 'horsepower'), Text(0, 0.5, 'mpg')]"
      ]
     },
     "execution_count": 170,
     "metadata": {},
     "output_type": "execute_result"
    },
    {
     "data": {
      "image/png": "[encoded data removed]",
      "text/plain": [
       "<Figure size 432x288 with 4 Axes>"
      ]
     },
     "metadata": {
      "needs_background": "light"
     },
     "output_type": "display_data"
    }
   ],
   "source": [
    "fig, ax = plt.subplots(2,2, constrained_layout=True)\n",
    "\n",
    "ax[0,0].hist(amer_df[\"mpg\"])\n",
    "ax[0,0].set(xlabel=\"mpg\", ylabel=\"counts\")\n",
    "ax[0,1].hist(euro_df[\"mpg\"])\n",
    "ax[0,1].set(xlabel=\"mpg\", ylabel=\"counts\")\n",
    "\n",
    "ax[1,0].scatter(amer_df[\"horsepower\"], amer_df[\"mpg\"])\n",
    "ax[1,0].set(xlabel=\"horsepower\",ylabel=\"mpg\")\n",
    "ax[1,1].scatter(euro_df[\"horsepower\"], euro_df[\"mpg\"])\n",
    "ax[1,1].set(xlabel=\"horsepower\",ylabel=\"mpg\")"
   ]
  },
  {
   "cell_type": "code",
   "execution_count": 171,
   "id": "6738a351",
   "metadata": {},
   "outputs": [],
   "source": [
    "import seaborn as sns"
   ]
  },
  {
   "cell_type": "code",
   "execution_count": 179,
   "id": "ea873a7c",
   "metadata": {},
   "outputs": [
    {
     "data": {
      "image/png": "[encoded data removed]",
      "text/plain": [
       "<Figure size 432x288 with 2 Axes>"
      ]
     },
     "metadata": {
      "needs_background": "light"
     },
     "output_type": "display_data"
    }
   ],
   "source": [
    "fig, ax = plt.subplots(1,2, constrained_layout=True)\n",
    "\n",
    "sns.histplot(\n",
    "    x = mpg_df[\"horsepower\"],\n",
    "    ax = ax[0]\n",
    ")\n",
    "\n",
    "sns.boxplot(\n",
    "    x = mpg_df[\"origin\"],\n",
    "    y = mpg_df[\"horsepower\"],\n",
    "    ax = ax[1]\n",
    ")\n",
    "\n",
    "plt.savefig('horsepower.png', bbox_inches=\"tight\")"
   ]
  }
 ],
 "metadata": {
  "kernelspec": {
   "display_name": "Python 3 (ipykernel)",
   "language": "python",
   "name": "python3"
  },
  "language_info": {
   "codemirror_mode": {
    "name": "ipython",
    "version": 3
   },
   "file_extension": ".py",
   "mimetype": "text/x-python",
   "name": "python",
   "nbconvert_exporter": "python",
   "pygments_lexer": "ipython3",
   "version": "3.9.7"
  }
 },
 "nbformat": 4,
 "nbformat_minor": 5
}
